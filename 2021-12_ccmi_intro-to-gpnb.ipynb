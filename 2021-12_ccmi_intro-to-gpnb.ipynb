{
 "cells": [
  {
   "cell_type": "markdown",
   "id": "d0d3b90e",
   "metadata": {},
   "source": [
    "# Introduction to the GenePattern Notebook\n",
    "\n",
    "Alexander T. Wenzel<br>atwenzel@ucsd.edu\n",
    "\n",
    "In this notebook, we'll be reviewing tools for profiling an RNA-sequencing (or RNA-seq) experiment. We will first quantify transcript abundance in our samples using the pseudoaligner [Salmon](https://salmon.readthedocs.io/en/latest/salmon.html) and aggregate to gene-level count estimates using [tximport](https://bioconductor.org/packages/release/bioc/html/tximport.html). Using these counts, we will look for differentially expressed genes in our perturbation samples relative to our control samples using [DESeq2](https://bioconductor.org/packages/release/bioc/html/DESeq2.html) and visualize the results using the DifferentialExpressionViewer GenePattern module. Finally, we will test for up- or down-regulated pathways and processes using [Gene Set Enrichment Analysis (GSEA)](http://www.gsea-msigdb.org/gsea/index.jsp).\n",
    "\n",
    "The data for this example are 6 samples from an [experiment](https://www.ncbi.nlm.nih.gov/geo/query/acc.cgi?acc=GSE119088) testing the effects of an inhibitor of *EZH2* on a variety of cancer cell lines. Here we will focus on the U2932 Diffuse Large B Cell Lymphoma data."
   ]
  },
  {
   "cell_type": "markdown",
   "id": "79f90bb9",
   "metadata": {},
   "source": [
    "# Activate demo mode\n",
    "\n",
    "GenePattern modules run \"headlessly\" in the Cloud. This enhances the ability of the Notebook environment to serve as an encapsulation of the entire scientific workflow, since analysis components that require larger amounts of time or memory can be sent off to appropriately provisioned cloud servers without relying on the continuity of the notebook kernel. This means that, for example, you can start a sequencing alignment job, turn off your notebook, open the notebook hours later, and view the results of the alignment.\n",
    "\n",
    "Some of the modules in this notebook will take several minutes to hours to run. Therefore, we recommend that you activate \"demo mode\" for the duration of this workshop. This means that, when you click \"Run\" on a module, the notebook will first check if there are example job results that match the input parameters, and, if they exist, will immediately return those results to the notebook. This lets us keep to the workshop schedule while keeping the changes to the user experience minimal. If you want to actually run any of these modules with different parameters or inputs, or to just test out running modules, then **do not** click on \"Run\" in the interface below this cell. If you have demo mode already activated and want to turn it off, then click `Kernel ->  Restart`."
   ]
  },
  {
   "cell_type": "code",
   "execution_count": 7,
   "id": "238fa6cc",
   "metadata": {
    "nbtools": {
     "description": "Enable demo mode for this notebook",
     "name": "activate_demo_mode",
     "origin": "Notebook",
     "param_values": {
      "output_var": ""
     },
     "show_code": false,
     "type": "uibuilder"
    }
   },
   "outputs": [
    {
     "data": {
      "application/vnd.jupyter.widget-view+json": {
       "model_id": "6758dced25244920ab0c2b7eaf3a0988",
       "version_major": 2,
       "version_minor": 0
      },
      "text/plain": [
       "UIBuilder(description='Enable demo mode for this notebook', function_import='nbtools.tool(id=\"activate_demo_mo…"
      ]
     },
     "metadata": {},
     "output_type": "display_data"
    },
    {
     "data": {
      "application/javascript": [
       "\n",
       "            NBToolManager.instance().register(new NBToolManager.NBTool({\n",
       "                origin: \"Notebook\",\n",
       "                id: \"activate_demo_mode\",\n",
       "                name: \"activate_demo_mode\",\n",
       "                description: \"Enable demo mode for this notebook\",\n",
       "                version: \"null\",\n",
       "                tags: null,\n",
       "                attributes: null,\n",
       "                load: function() { return true; },\n",
       "                render: function() { let code = \"nbtools.tool(id='activate_demo_mode', origin='Notebook')\";\n",
       "                let cell = Jupyter.notebook.get_selected_cell();\n",
       "                const is_empty = cell.get_text().trim() === \"\";\n",
       "\n",
       "                // If this cell is not empty, insert a new cell and use that\n",
       "                // Otherwise just use this cell\n",
       "                if (!is_empty) {\n",
       "                    cell = Jupyter.notebook.insert_cell_below();\n",
       "                    Jupyter.notebook.select_next();\n",
       "                }\n",
       "\n",
       "                cell.set_text(code);\n",
       "                cell.execute();\n",
       "\n",
       "                return cell; },\n",
       "            }));"
      ]
     },
     "metadata": {},
     "output_type": "display_data"
    }
   ],
   "source": [
    "import nbtools\n",
    "import demo_mode\n",
    "from IPython.display import display, HTML\n",
    "\n",
    "## Alex\n",
    "%load_ext autoreload \n",
    "## Alex\n",
    "%autoreload 2  \n",
    "\n",
    "@nbtools.build_ui(parameters={'output_var': {'hide': True}})\n",
    "def activate_demo_mode():\n",
    "    \"\"\"Enable demo mode for this notebook\"\"\"\n",
    "    \n",
    "    # Any job you enable as a demo job will need to be listed here, \n",
    "    # along with the module name and any parameters you want matched.\n",
    "    # Parameters that are not listed will not be matched. You can \n",
    "    # list the same module multiple times, assuming you use different \n",
    "    # parameter match sets.\n",
    "    \n",
    "    \"\"\"\n",
    "    demo_mode.set_demo_jobs([\n",
    "        {\n",
    "            'name': 'Conos.Preprocess',\n",
    "            'job': 389201,                                # Make sure to set the permissions of any demo job to 'public'\n",
    "            'params': {\n",
    "                'knn': '40',    # Demo mode should be able to match between int and string, but when in doubt use string\n",
    "                'perplexity': 50\n",
    "            }\n",
    "        }, \n",
    "        {\n",
    "            'name': 'Conos.Cluster',\n",
    "            'job': 389530,\n",
    "            'params': {\n",
    "                'conos_object': 'conos_preprocess_output.rds',   # For file parameters, just list the file name, not URL\n",
    "                'runleiden': 'True'\n",
    "            }\n",
    "        }\n",
    "    ])\n",
    "    \"\"\"\n",
    "    \n",
    "    demo_mode.set_demo_jobs([\n",
    "        {\n",
    "            \"name\": \"Salmon.Quant\",\n",
    "            #\"job\": 82034,\n",
    "            \"job\": 82039,\n",
    "            \"params\": {\n",
    "                #\"Reads\": \"Reads.list.txt\",\n",
    "                \"Reads\": [\n",
    "                    \"SRR7758650-DMSO_R1.fastq.gz\",\n",
    "                    \"SRR7758650-DMSO_R2.fastq.gz\",\n",
    "                    \"SRR7758651-DMSO_R1.fastq.gz\",\n",
    "                    \"SRR7758651-DMSO_R2.fastq.gz\",\n",
    "                    \"SRR7758652-DMSO_R1.fastq.gz\",\n",
    "                    \"SRR7758652-DMSO_R2.fastq.gz\",\n",
    "                    \"SRR7758653-EPZ6438_R1.fastq.gz\",\n",
    "                    \"SRR7758653-EPZ6438_R2.fastq.gz\",\n",
    "                    \"SRR7758654-EPZ6438_R1.fastq.gz\",\n",
    "                    \"SRR7758654-EPZ6438_R2.fastq.gz\",\n",
    "                    \"SRR7758655-EPZ6438_R1.fastq.gz\",\n",
    "                    \"SRR7758655-EPZ6438_R2.fastq.gz\"\n",
    "                ]\n",
    "            }\n",
    "        },\n",
    "        {\n",
    "            \"name\": \"tximport.DESeq2.Normalize\",\n",
    "            \"job\": 82042,\n",
    "            \"params\": {\n",
    "                \"Quantifications\": [\n",
    "                    \"SRR7758650-DMSO.quant.sf\",\n",
    "                    \"SRR7758651-DMSO.quant.sf\",\n",
    "                    \"SRR7758652-DMSO.quant.sf\",\n",
    "                    \"SRR7758653-EPZ6438.quant.sf\",\n",
    "                    \"SRR7758654-EPZ6438.quant.sf\",\n",
    "                    \"SRR7758655-EPZ6438.quant.sf\"\n",
    "                ]\n",
    "            }\n",
    "        }\n",
    "    ])\n",
    "    \n",
    "    # To activate demo mode, just call activate(). This example wraps \n",
    "    # the activation call behind a UI Builder cell, but you could have \n",
    "    # it called in different ways.\n",
    "\n",
    "    demo_mode.activate()\n",
    "    display(HTML('<div class=\"alert alert-success\">Demo mode activated</div>'))\n",
    "    \n",
    "    # The code in this call has been left expanded for tutorial purposes"
   ]
  },
  {
   "cell_type": "markdown",
   "id": "5063647a",
   "metadata": {},
   "source": [
    "# Input data\n",
    "\n",
    "These URLs point to each of the input files, which are paired `fastq` files for a total of 6 samples. You don't have to download these files, they can be passed the first module using these URLs."
   ]
  },
  {
   "cell_type": "markdown",
   "id": "45fad7fb",
   "metadata": {},
   "source": [
    "<div class=\"well well-sm\">\n",
    "    <b>SRR7758650-DMSO_R1.fastq.gz</b>: <a href=https://beta.genepattern.org/gp/users/atwenzel2/SRR7758650-DMSO_R1.fastq.gz>https://beta.genepattern.org/gp/users/atwenzel2/SRR7758650-DMSO_R1.fastq.gz</a>\n",
    "    <br>\n",
    "    <b>SRR7758650-DMSO_R2.fastq.gz</b>: <a href=https://beta.genepattern.org/gp/users/atwenzel2/SRR7758650-DMSO_R2.fastq.gz>https://beta.genepattern.org/gp/users/atwenzel2/SRR7758650-DMSO_R2.fastq.gz</a>\n",
    "    <br>\n",
    "    <br>\n",
    "    <b>SRR7758651-DMSO_R1.fastq.gz</b>: <a href=https://beta.genepattern.org/gp/users/atwenzel2/SRR7758651-DMSO_R1.fastq.gz>https://beta.genepattern.org/gp/users/atwenzel2/SRR7758651-DMSO_R1.fastq.gz</a>\n",
    "    <br>\n",
    "    <b>SRR7758651-DMSO_R2.fastq.gz</b>: <a href=https://beta.genepattern.org/gp/users/atwenzel2/SRR7758651-DMSO_R2.fastq.gz>https://beta.genepattern.org/gp/users/atwenzel2/SRR7758651-DMSO_R2.fastq.gz</a>\n",
    "    <br>\n",
    "    <br>\n",
    "    <b>SRR7758652-DMSO_R1.fastq.gz</b>: <a href=https://beta.genepattern.org/gp/users/atwenzel2/SRR7758652-DMSO_R1.fastq.gz>https://beta.genepattern.org/gp/users/atwenzel2/SRR7758652-DMSO_R1.fastq.gz</a>\n",
    "    <br>\n",
    "    <b>SRR7758652-DMSO_R2.fastq.gz</b>: <a href=https://beta.genepattern.org/gp/users/atwenzel2/SRR7758652-DMSO_R2.fastq.gz>https://beta.genepattern.org/gp/users/atwenzel2/SRR7758652-DMSO_R2.fastq.gz</a>\n",
    "    <br>\n",
    "    <br>\n",
    "    <b>SRR7758653-EPZ6438_R1.fastq.gz</b>: <a href=https://beta.genepattern.org/gp/users/atwenzel2/SRR7758653-EPZ6438_R1.fastq.gz>https://beta.genepattern.org/gp/users/atwenzel2/SRR7758653-EPZ6438_R1.fastq.gz</a>\n",
    "    <br>\n",
    "    <b>SRR7758653-EPZ6438_R2.fastq.gz</b>: <a href=https://beta.genepattern.org/gp/users/atwenzel2/SRR7758653-EPZ6438_R2.fastq.gz>https://beta.genepattern.org/gp/users/atwenzel2/SRR7758653-EPZ6438_R2.fastq.gz</a>\n",
    "    <br>\n",
    "    <br>\n",
    "    <b>SRR7758654-EPZ6438_R1.fastq.gz</b>: <a href=https://beta.genepattern.org/gp/users/atwenzel2/SRR7758654-EPZ6438_R1.fastq.gz>https://beta.genepattern.org/gp/users/atwenzel2/SRR7758654-EPZ6438_R1.fastq.gz</a>\n",
    "    <br>\n",
    "    <b>SRR7758654-EPZ6438_R2.fastq.gz</b>: <a href=https://beta.genepattern.org/gp/users/atwenzel2/SRR7758654-EPZ6438_R2.fastq.gz>https://beta.genepattern.org/gp/users/atwenzel2/SRR7758654-EPZ6438_R2.fastq.gz</a>\n",
    "    <br>\n",
    "    <br>\n",
    "    <b>SRR7758655-EPZ6438_R1.fastq.gz</b>: <a href=https://beta.genepattern.org/gp/users/atwenzel2/SRR7758655-EPZ6438_R1.fastq.gz>https://beta.genepattern.org/gp/users/atwenzel2/SRR7758655-EPZ6438_R1.fastq.gz</a>\n",
    "    <br>\n",
    "    <b>SRR7758655-EPZ6438_R2.fastq.gz</b>: <a href=https://beta.genepattern.org/gp/users/atwenzel2/SRR7758655-EPZ6438_R2.fastq.gz>https://beta.genepattern.org/gp/users/atwenzel2/SRR7758655-EPZ6438_R2.fastq.gz</a>\n",
    " \n",
    "</div>"
   ]
  },
  {
   "cell_type": "markdown",
   "id": "14341eba",
   "metadata": {},
   "source": [
    "# Login to GenePattern"
   ]
  },
  {
   "cell_type": "markdown",
   "id": "3429e797",
   "metadata": {},
   "source": [
    "<div class=\"alert alert-info\">\n",
    "<p class=\"lead\"> Instructions <i class=\"fa fa-info-circle\"></i></p>\n",
    "Instructions for inserting a GP login cell.\n",
    "</div>"
   ]
  },
  {
   "cell_type": "code",
   "execution_count": 1,
   "id": "58adfa53",
   "metadata": {
    "genepattern": {
     "name": "Login",
     "server": "https://beta.genepattern.org/gp",
     "type": "auth"
    }
   },
   "outputs": [
    {
     "data": {
      "application/vnd.jupyter.widget-view+json": {
       "model_id": "1ee957e4ff4a4d3da9b59f2955af38bc",
       "version_major": 2,
       "version_minor": 0
      },
      "text/plain": [
       "GPAuthWidget()"
      ]
     },
     "metadata": {},
     "output_type": "display_data"
    }
   ],
   "source": [
    "# Requires GenePattern Notebook: pip install genepattern-notebook\n",
    "import gp\n",
    "import genepattern\n",
    "\n",
    "# Username and password removed for security reasons.\n",
    "genepattern.display(genepattern.session.register(\"https://beta.genepattern.org/gp\", \"\", \"\"))"
   ]
  },
  {
   "cell_type": "markdown",
   "id": "00e47442",
   "metadata": {},
   "source": [
    "# Get transcript abundances with Salmon\n",
    "\n",
    "Here we will run the Salmon.Quant module, the GenePattern module that implements the Salmon pseudoalignment tool, a much faster approach to traditional sequencing alignment, which looks for read segments that match overlapping segments of the transcriptome rather than a base-pair-to-base-pair matching. Salmon.Quant needs a valid Salmon transcriptome index to use as a reference. GenePattern has prebuilt references for Human and Mouse transcriptomes. If you have sequencing data from another organism, you can build your own Salmon index with the Salmon.Indexer GenePattern module."
   ]
  },
  {
   "cell_type": "markdown",
   "id": "ffd6bf85",
   "metadata": {},
   "source": [
    "<div class=\"alert alert-info\">\n",
    "<p class=\"lead\"> Instructions <i class=\"fa fa-info-circle\"></i></p>\n",
    "Insert a Salmon.Quant module.\n",
    "    <ol>\n",
    "        <li>Create a new cell below this one using the <b>+</b> button.</li>\n",
    "        <li>Click on \"Cell -> CellType -> GenePattern\".</li>\n",
    "        <li>Search for \"Salmon.Quant\" and choose the Salmon.Quant module from the list.</li>\n",
    "        <li>Drag each of the <code>fastq.gz</code> links above to the <code>Reads*</code> parameter field.</li>\n",
    "        <li>Drag <a href=https://datasets-genepattern-org.s3.amazonaws.com/data/test_data/Salmon/gencode.v37.annotation.k31.salmon_full_decoy_index.tar.gz>this link</a> to the <code>Transcriptome Index*</code> parameter field.</li> \n",
    "        <li>Click \"Run\".</li>\n",
    "    </ol>\n",
    "</div>"
   ]
  },
  {
   "cell_type": "code",
   "execution_count": 2,
   "id": "d57c99ee",
   "metadata": {
    "genepattern": {
     "description": "Perform transcript-level quantification of RNA-seq data using Salmon (version 1.5.2).<br>\n\nSee: <a href=\"https://salmon.readthedocs.io/en/latest/salmon.html#using-salmon\" target=\"_blank\">The Salmon User Guide</a>\nfor detailed usage guidelines.",
     "name": "Salmon.Quant",
     "param_values": {
      "Allow.Dovetail": null,
      "Dump.EQ": null,
      "Hard.Filter": null,
      "Library.Type": null,
      "Mimic.Bowtie": null,
      "N.Sampling": null,
      "Range.Factorization": null,
      "Range.Factorization.Bins": null,
      "Reads": null,
      "Recover.Orphans": null,
      "Sampling": null,
      "Transcriptome.Index": null,
      "biasSpeedSamp": null,
      "biasSpeedSamp.Factor": null,
      "gcBias": null,
      "job.cpuCount": null,
      "job.memory": null,
      "job.queue": null,
      "job.walltime": null,
      "posBias": null,
      "reduce.GC.Memory": null,
      "seqBias": null
     },
     "type": "task"
    }
   },
   "outputs": [
    {
     "data": {
      "application/vnd.jupyter.widget-view+json": {
       "model_id": "24418f53482e442a8ad465d08b37dda6",
       "version_major": 2,
       "version_minor": 0
      },
      "text/plain": [
       "GPTaskWidget(lsid='urn:lsid:genepattern.org:module.analysis:00420')"
      ]
     },
     "metadata": {},
     "output_type": "display_data"
    }
   ],
   "source": [
    "salmon_quant_task = gp.GPTask(genepattern.session.get(0), 'urn:lsid:genepattern.org:module.analysis:00420')\n",
    "salmon_quant_job_spec = salmon_quant_task.make_job_spec()\n",
    "salmon_quant_job_spec.set_parameter(\"Reads\", [\"https://beta.genepattern.org/gp/users/atwenzel2/SRR7758650-DMSO_R1.fastq.gz\", \"https://beta.genepattern.org/gp/users/atwenzel2/SRR7758650-DMSO_R2.fastq.gz\", \"https://beta.genepattern.org/gp/users/atwenzel2/SRR7758651-DMSO_R1.fastq.gz\", \"https://beta.genepattern.org/gp/users/atwenzel2/SRR7758651-DMSO_R2.fastq.gz\", \"https://beta.genepattern.org/gp/users/atwenzel2/SRR7758652-DMSO_R1.fastq.gz\", \"https://beta.genepattern.org/gp/users/atwenzel2/SRR7758652-DMSO_R2.fastq.gz\", \"https://beta.genepattern.org/gp/users/atwenzel2/SRR7758653-EPZ6438_R1.fastq.gz\", \"https://beta.genepattern.org/gp/users/atwenzel2/SRR7758653-EPZ6438_R2.fastq.gz\", \"https://beta.genepattern.org/gp/users/atwenzel2/SRR7758654-EPZ6438_R1.fastq.gz\", \"https://beta.genepattern.org/gp/users/atwenzel2/SRR7758654-EPZ6438_R2.fastq.gz\", \"https://beta.genepattern.org/gp/users/atwenzel2/SRR7758655-EPZ6438_R1.fastq.gz\", \"https://beta.genepattern.org/gp/users/atwenzel2/SRR7758655-EPZ6438_R2.fastq.gz\"])\n",
    "salmon_quant_job_spec.set_parameter(\"Transcriptome.Index\", \"https://datasets-genepattern-org.s3.amazonaws.com/data/test_data/Salmon/gencode.v37.annotation.k31.salmon_full_decoy_index.tar.gz\")\n",
    "salmon_quant_job_spec.set_parameter(\"Library.Type\", \"A\")\n",
    "salmon_quant_job_spec.set_parameter(\"Sampling\", \"BOOT\")\n",
    "salmon_quant_job_spec.set_parameter(\"seqBias\", \"true\")\n",
    "salmon_quant_job_spec.set_parameter(\"gcBias\", \"true\")\n",
    "salmon_quant_job_spec.set_parameter(\"posBias\", \"true\")\n",
    "salmon_quant_job_spec.set_parameter(\"N.Sampling\", \"30\")\n",
    "salmon_quant_job_spec.set_parameter(\"Mimic.Bowtie\", \"off\")\n",
    "salmon_quant_job_spec.set_parameter(\"Recover.Orphans\", \"false\")\n",
    "salmon_quant_job_spec.set_parameter(\"Hard.Filter\", \"false\")\n",
    "salmon_quant_job_spec.set_parameter(\"Allow.Dovetail\", \"false\")\n",
    "salmon_quant_job_spec.set_parameter(\"Dump.EQ\", \"false\")\n",
    "salmon_quant_job_spec.set_parameter(\"reduce.GC.Memory\", \"false\")\n",
    "salmon_quant_job_spec.set_parameter(\"Range.Factorization\", \"false\")\n",
    "salmon_quant_job_spec.set_parameter(\"Range.Factorization.Bins\", \"4\")\n",
    "salmon_quant_job_spec.set_parameter(\"biasSpeedSamp\", \"false\")\n",
    "salmon_quant_job_spec.set_parameter(\"biasSpeedSamp.Factor\", \"5\")\n",
    "salmon_quant_job_spec.set_parameter(\"job.memory\", \"16Gb\")\n",
    "salmon_quant_job_spec.set_parameter(\"job.queue\", \"gp-new-beta\")\n",
    "salmon_quant_job_spec.set_parameter(\"job.cpuCount\", \"3\")\n",
    "salmon_quant_job_spec.set_parameter(\"job.walltime\", \"02:00:00\")\n",
    "genepattern.display(salmon_quant_task)\n"
   ]
  },
  {
   "cell_type": "markdown",
   "id": "db15fd64",
   "metadata": {},
   "source": [
    "# Get gene counts and differentially expressed genes\n",
    "\n",
    "Now that we have the quantifications of transcript abundance, we can explore the changes in expression in the treated samples relative to the control. To do this, we start by running the tximport.DESeq2.Normalize module, which combines the functionality of the tximport and DESeq2 software tools. tximport aggregates the transcript-level abundance estimates to gene-level estimated counts, which are then appropriate for input to DESeq2, which tests for gene-level differential expression. Finally, this module also gives us the expression matrix transformed according to DESeq2's \"median of ratios\" normalization which it performs prior to testing for differential expression. We find that this normalization leads to optimal performance for Gene Set Enrichment Analysis (GSEA), which we will revisit later in this notebook."
   ]
  },
  {
   "cell_type": "markdown",
   "id": "ec10fd54",
   "metadata": {},
   "source": [
    "<div class=\"alert alert-info\">\n",
    "<p class=\"lead\"> Instructions <i class=\"fa fa-info-circle\"></i></p>\n",
    "Insert and run tximport.DESeq2.Normalize\n",
    "    <ol>\n",
    "        <li>Create a new cell below this one using the <b>+</b> button.</li>\n",
    "        <li>Click on \"Cell -> CellType -> GenePattern\".</li>\n",
    "        <li>Search for \"tximport.DESeq2.Normalize\" and choose the tximport.DESeq2.Normalize module.</li>\n",
    "        <li>Drag each of the <code>quant.sf</code> files from the job results above to, or select each one from the dropdown for the <code>Quantifications*</code> parameter field.</li>\n",
    "        <li>Click \"Upload File\" next to the <code>Sample Info</code> parameter field and uploaded the provided <code>2021-11-16_intro-to-gp_tximport-phenotypes.txt</code> file.</li>\n",
    "        <li>Drag <a href=https://ftp.ebi.ac.uk/pub/databases/gencode/Gencode_human/release_37/gencode.v37.annotation.gtf.gz>this link</a> to the <code>Transcriptome Database</code> parameter field.</li> \n",
    "        <li>Set the <code>Reverse Sign*</code> parameter to \"TRUE\".</li>\n",
    "    </ol>\n",
    "</div>"
   ]
  },
  {
   "cell_type": "code",
   "execution_count": 3,
   "id": "15f5738a",
   "metadata": {
    "genepattern": {
     "description": "Imports RNA-seq quantifications from frequently used pipelines using the tximport package and outputs a DESeq2 \"normalized counts\" file in .GCT format suitable for use with GSEA, <br>and/or a TPM .GCT suitable for ssGSEA.<br>\nIf a Sample Info file is provided containing assignments of samples to phenotypes, gene level differential expression will be calculated using DESeq2 for the two phenotypes.",
     "name": "tximport.DESeq2.Normalize",
     "param_values": {
      "Annotate.DEGs": null,
      "Min.Count.Filter": null,
      "Output.Normalized.Counts": null,
      "Output.TPM": null,
      "Quant.Type": null,
      "Quantifications": null,
      "Reverse.Sign": null,
      "Sample.Info": null,
      "Split.Identifiers": null,
      "Transcriptome.Database": null,
      "job.cpuCount": null,
      "job.memory": null,
      "job.queue": null,
      "job.walltime": null,
      "output.file.base": null,
      "random.seed": null
     },
     "type": "task"
    }
   },
   "outputs": [
    {
     "data": {
      "application/vnd.jupyter.widget-view+json": {
       "model_id": "e68ad2f13fa145b7a7f728143982da14",
       "version_major": 2,
       "version_minor": 0
      },
      "text/plain": [
       "GPTaskWidget(lsid='urn:lsid:8080.gpserver.ip-172-31-26-71.ip-172-31-26-71.ec2.internal:genepatternmodules:179'…"
      ]
     },
     "metadata": {},
     "output_type": "display_data"
    }
   ],
   "source": [
    "tximport_deseq2_normalize_task = gp.GPTask(genepattern.session.get(0), 'urn:lsid:8080.gpserver.ip-172-31-26-71.ip-172-31-26-71.ec2.internal:genepatternmodules:179')\n",
    "tximport_deseq2_normalize_job_spec = tximport_deseq2_normalize_task.make_job_spec()\n",
    "tximport_deseq2_normalize_job_spec.set_parameter(\"Quantifications\", [\"https://beta.genepattern.org/gp/jobResults/82039/SRR7758650-DMSO.quant.sf\", \"https://beta.genepattern.org/gp/jobResults/82039/SRR7758651-DMSO.quant.sf\", \"https://beta.genepattern.org/gp/jobResults/82039/SRR7758652-DMSO.quant.sf\", \"https://beta.genepattern.org/gp/jobResults/82039/SRR7758653-EPZ6438.quant.sf\", \"https://beta.genepattern.org/gp/jobResults/82039/SRR7758654-EPZ6438.quant.sf\", \"https://beta.genepattern.org/gp/jobResults/82039/SRR7758655-EPZ6438.quant.sf\"])\n",
    "tximport_deseq2_normalize_job_spec.set_parameter(\"Sample.Info\", \"https://beta.genepattern.org/gp/users/atwenzel2/tmp/run7081044627909928268.tmp/Sample.Info/1/2021-11-16_intro-to-gp_tximport-phenotypes.txt\")\n",
    "tximport_deseq2_normalize_job_spec.set_parameter(\"Quant.Type\", \"SALMON\")\n",
    "tximport_deseq2_normalize_job_spec.set_parameter(\"Transcriptome.Database\", \"https://beta.genepattern.org/gp/users/atwenzel2/tmp/run7303381141072436253.tmp/Transcriptome.Database/1/gencode.v37.annotation.gtf.gz\")\n",
    "tximport_deseq2_normalize_job_spec.set_parameter(\"Output.Normalized.Counts\", \"TRUE\")\n",
    "tximport_deseq2_normalize_job_spec.set_parameter(\"Output.TPM\", \"TRUE\")\n",
    "tximport_deseq2_normalize_job_spec.set_parameter(\"output.file.base\", \"Merged.Data\")\n",
    "tximport_deseq2_normalize_job_spec.set_parameter(\"Reverse.Sign\", \"TRUE\")\n",
    "tximport_deseq2_normalize_job_spec.set_parameter(\"Annotate.DEGs\", \"TRUE\")\n",
    "tximport_deseq2_normalize_job_spec.set_parameter(\"Split.Identifiers\", \"TRUE\")\n",
    "tximport_deseq2_normalize_job_spec.set_parameter(\"Min.Count.Filter\", \"1\")\n",
    "tximport_deseq2_normalize_job_spec.set_parameter(\"random.seed\", \"779948241\")\n",
    "tximport_deseq2_normalize_job_spec.set_parameter(\"job.memory\", \"2 Gb\")\n",
    "tximport_deseq2_normalize_job_spec.set_parameter(\"job.queue\", \"gp-new-beta\")\n",
    "tximport_deseq2_normalize_job_spec.set_parameter(\"job.cpuCount\", \"1\")\n",
    "tximport_deseq2_normalize_job_spec.set_parameter(\"job.walltime\", \"02:00:00\")\n",
    "genepattern.display(tximport_deseq2_normalize_task)\n"
   ]
  },
  {
   "cell_type": "markdown",
   "id": "384d4534",
   "metadata": {},
   "source": [
    "<div class=\"alert alert-danger\">\n",
    "<p class=\"lead\"> Error <i class=\"fa fa-exclamation-circle\"></i></p>\n",
    "    FIX <code>Uncaught TypeError: val.lastIndexOf is not a function</code> WHEN UPLOADING A FILE\n",
    "</div>"
   ]
  },
  {
   "cell_type": "markdown",
   "id": "ccb53357",
   "metadata": {},
   "source": [
    "# Visualize differential expression results\n",
    "\n",
    "Here, we will use the DifferentialExpressionViewer GenePattern module to render a visualization of significantly differentially expressed genes within the notebook. This module expects an input in [ODF](https://www.genepattern.org/file-formats-guide#ODF) format, so we will first run the txt2odf module to convert the results of DESeq2 to this file format."
   ]
  },
  {
   "cell_type": "markdown",
   "id": "d89da02c",
   "metadata": {},
   "source": [
    "## Convert DESeq2 output to DifferentialExpressionViewer input"
   ]
  },
  {
   "cell_type": "markdown",
   "id": "ed1b4711",
   "metadata": {},
   "source": [
    "<div class=\"alert alert-info\">\n",
    "<p class=\"lead\"> Instructions <i class=\"fa fa-info-circle\"></i></p>\n",
    "Insert and run the txt2odf module.\n",
    "    <ol>\n",
    "        <li>Create a new cell below this one using the <b>+</b> button.</li>\n",
    "        <li>Click on \"Cell -> CellType -> GenePattern\".</li>\n",
    "        <li>Search for \"txt2odf\" and choose the txt2odf module.</li>\n",
    "        <li>Drag the <b>DESEQ2 OUTPUT FILE NAME HERE</b> to the <code>txt file*</code> parameter field.</li>\n",
    "        <li>Drag the <b>DESEQ2 CORRECTED COUNTS FILE NAME HERE</b> to the <code>gct</code> parameter field.</li>\n",
    "        <li>Drag the <b>DESEQ2 CLS FILE NAME HERE</b> to the <code>cls</code> parameter field.</li>\n",
    "        <li>Click \"Run\".</li>\n",
    "    </ol>\n",
    "</div>"
   ]
  },
  {
   "cell_type": "code",
   "execution_count": 4,
   "id": "51bf996a",
   "metadata": {
    "genepattern": {
     "description": "This module turns a TXT file into an ODF file which can be used with other GenePattern Modules.",
     "name": "txt2odf",
     "param_values": {
      "cls": null,
      "gct": null,
      "job.cpuCount": null,
      "job.memory": null,
      "job.queue": null,
      "job.walltime": null,
      "prune_gct": null,
      "txt_file": null
     },
     "type": "task"
    }
   },
   "outputs": [
    {
     "data": {
      "application/vnd.jupyter.widget-view+json": {
       "model_id": "b7326f34620f43ada7284bb9b09479b6",
       "version_major": 2,
       "version_minor": 0
      },
      "text/plain": [
       "GPTaskWidget(lsid='urn:lsid:broad.mit.edu:cancer.software.genepattern.module.analysis:00372')"
      ]
     },
     "metadata": {},
     "output_type": "display_data"
    }
   ],
   "source": [
    "txt2odf_task = gp.GPTask(genepattern.session.get(0), 'urn:lsid:broad.mit.edu:cancer.software.genepattern.module.analysis:00372')\n",
    "txt2odf_job_spec = txt2odf_task.make_job_spec()\n",
    "txt2odf_job_spec.set_parameter(\"txt_file\", \"\")\n",
    "txt2odf_job_spec.set_parameter(\"prune_gct\", \"False\")\n",
    "txt2odf_job_spec.set_parameter(\"gct\", \"\")\n",
    "txt2odf_job_spec.set_parameter(\"cls\", \"\")\n",
    "txt2odf_job_spec.set_parameter(\"job.memory\", \"2 Gb\")\n",
    "txt2odf_job_spec.set_parameter(\"job.queue\", \"gp-new-beta\")\n",
    "txt2odf_job_spec.set_parameter(\"job.cpuCount\", \"1\")\n",
    "txt2odf_job_spec.set_parameter(\"job.walltime\", \"02:00:00\")\n",
    "genepattern.display(txt2odf_task)\n"
   ]
  },
  {
   "cell_type": "markdown",
   "id": "d63fe1fc",
   "metadata": {},
   "source": [
    "<div class=\"alert alert-danger\">\n",
    "<p class=\"lead\"> Error <i class=\"fa fa-exclamation-circle\"></i></p>\n",
    "FIX COLUMN NAMES INCOMPATIBILITY IN tximport.DESeq2.Normalize\n",
    "</div>"
   ]
  },
  {
   "cell_type": "markdown",
   "id": "1813f7e9",
   "metadata": {},
   "source": [
    "## Generate visualization with DifferentialExpressionViewer\n",
    "\n",
    "Now that we have our data in the correct format, we can visualize the differentially expressed genes."
   ]
  },
  {
   "cell_type": "markdown",
   "id": "ecf9eced",
   "metadata": {},
   "source": [
    "<div class=\"alert alert-info\">\n",
    "<p class=\"lead\"> Instructions <i class=\"fa fa-info-circle\"></i></p>\n",
    "Insert and run the DifferentialExpressionViewer module.\n",
    "    <ol>\n",
    "        <li>Create a new cell below this one using the <b>+</b> button.</li>\n",
    "        <li>Click on \"Cell -> CellType -> GenePattern\".</li> \n",
    "        <li>Search for \"DifferentialExpressionViewer\" and choose the DifferentialExpressionViewer module.</li>\n",
    "        <li>In the dropdown for <code>differential expression filename*</code>, choose the ODF file from txt2odf</li>\n",
    "        <li>In the <code>dataset filename*</code>, choose the <code>Merged.Data.Normalized.Counts.gct</code> file from tximport.DESeq2.Normalize</li>\n",
    "        <li>Click \"Run\"</li>\n",
    "    </ol>\n",
    "</div>"
   ]
  },
  {
   "cell_type": "code",
   "execution_count": 5,
   "id": "359c0d25",
   "metadata": {
    "genepattern": {
     "description": "Views differential expression results such as from the ComparativeMarkerSelection module. Formerly known as ComparativeMarkerSelectionViewer.",
     "name": "DifferentialExpressionViewer",
     "param_values": {
      "dataset.filename": null,
      "differential.expression.filename": null,
      "job.cpuCount": null,
      "job.memory": null,
      "job.queue": null,
      "job.walltime": null
     },
     "type": "task"
    }
   },
   "outputs": [
    {
     "data": {
      "application/vnd.jupyter.widget-view+json": {
       "model_id": "2afa49b613444995950498c696edbba3",
       "version_major": 2,
       "version_minor": 0
      },
      "text/plain": [
       "GPTaskWidget(lsid='urn:lsid:broad.mit.edu:cancer.software.genepattern.module.visualizer:00045')"
      ]
     },
     "metadata": {},
     "output_type": "display_data"
    }
   ],
   "source": [
    "differentialexpressionviewer_task = gp.GPTask(genepattern.session.get(0), 'urn:lsid:broad.mit.edu:cancer.software.genepattern.module.visualizer:00045')\n",
    "differentialexpressionviewer_job_spec = differentialexpressionviewer_task.make_job_spec()\n",
    "differentialexpressionviewer_job_spec.set_parameter(\"differential.expression.filename\", \"\")\n",
    "differentialexpressionviewer_job_spec.set_parameter(\"dataset.filename\", \"\")\n",
    "differentialexpressionviewer_job_spec.set_parameter(\"job.memory\", \"2 Gb\")\n",
    "differentialexpressionviewer_job_spec.set_parameter(\"job.queue\", \"gp-new-beta\")\n",
    "differentialexpressionviewer_job_spec.set_parameter(\"job.cpuCount\", \"1\")\n",
    "differentialexpressionviewer_job_spec.set_parameter(\"job.walltime\", \"02:00:00\")\n",
    "genepattern.display(differentialexpressionviewer_task)\n"
   ]
  },
  {
   "cell_type": "markdown",
   "id": "ace6ae84",
   "metadata": {},
   "source": [
    "# Find dysregulated pathways with GSEA"
   ]
  },
  {
   "cell_type": "code",
   "execution_count": 6,
   "id": "f9c24efe",
   "metadata": {
    "genepattern": {
     "description": "Gene Set Enrichment Analysis.  <strong>If you are using GSEA on RNA-seq data, please read <a href=\"http://software.broadinstitute.org/cancer/software/gsea/wiki/index.php/Using_RNA-seq_Datasets_with_GSEA\" target=\"_blank\">these guidelines</a>.</strong>",
     "name": "GSEA",
     "param_values": {
      "alt.delim": null,
      "chip.platform.file": null,
      "collapse.dataset": null,
      "collapsing.mode.for.probe.sets.with.more.than.one.match": null,
      "create.gcts": null,
      "create.svgs": null,
      "create.zip": null,
      "dev.mode": null,
      "expression.dataset": null,
      "gene.list.ordering.mode": null,
      "gene.list.sorting.mode": null,
      "gene.sets.database": null,
      "job.cpuCount": null,
      "job.memory": null,
      "job.queue": null,
      "job.walltime": null,
      "make.detailed.gene.set.report": null,
      "max.gene.set.size": null,
      "median.for.class.metrics": null,
      "metric.for.ranking.genes": null,
      "min.gene.set.size": null,
      "normalization.mode": null,
      "number.of.markers": null,
      "number.of.permutations": null,
      "omit.features.with.no.symbol.match": null,
      "output.file.name": null,
      "permutation.type": null,
      "phenotype.labels": null,
      "plot.graphs.for.the.top.sets.of.each.phenotype": null,
      "random.seed": null,
      "randomization.mode": null,
      "save.random.ranked.lists": null,
      "scoring.scheme": null,
      "selected.gene.sets": null,
      "target.profile": null
     },
     "type": "task"
    }
   },
   "outputs": [
    {
     "data": {
      "application/vnd.jupyter.widget-view+json": {
       "model_id": "298349df224f4b208cf61edca6fb78fa",
       "version_major": 2,
       "version_minor": 0
      },
      "text/plain": [
       "GPTaskWidget(lsid='urn:lsid:broad.mit.edu:cancer.software.genepattern.module.analysis:00072')"
      ]
     },
     "metadata": {},
     "output_type": "display_data"
    }
   ],
   "source": [
    "gsea_task = gp.GPTask(genepattern.session.get(0), 'urn:lsid:broad.mit.edu:cancer.software.genepattern.module.analysis:00072')\n",
    "gsea_job_spec = gsea_task.make_job_spec()\n",
    "gsea_job_spec.set_parameter(\"expression.dataset\", \"\")\n",
    "gsea_job_spec.set_parameter(\"gene.sets.database\", \"\")\n",
    "gsea_job_spec.set_parameter(\"number.of.permutations\", \"1000\")\n",
    "gsea_job_spec.set_parameter(\"phenotype.labels\", \"\")\n",
    "gsea_job_spec.set_parameter(\"target.profile\", \"\")\n",
    "gsea_job_spec.set_parameter(\"permutation.type\", \"phenotype\")\n",
    "gsea_job_spec.set_parameter(\"collapse.dataset\", \"Collapse\")\n",
    "gsea_job_spec.set_parameter(\"chip.platform.file\", \"\")\n",
    "gsea_job_spec.set_parameter(\"output.file.name\", \"<expression.dataset_basename>.zip\")\n",
    "gsea_job_spec.set_parameter(\"scoring.scheme\", \"weighted\")\n",
    "gsea_job_spec.set_parameter(\"metric.for.ranking.genes\", \"Signal2Noise\")\n",
    "gsea_job_spec.set_parameter(\"gene.list.sorting.mode\", \"real\")\n",
    "gsea_job_spec.set_parameter(\"gene.list.ordering.mode\", \"descending\")\n",
    "gsea_job_spec.set_parameter(\"max.gene.set.size\", \"500\")\n",
    "gsea_job_spec.set_parameter(\"min.gene.set.size\", \"15\")\n",
    "gsea_job_spec.set_parameter(\"collapsing.mode.for.probe.sets.with.more.than.one.match\", \"Max_probe\")\n",
    "gsea_job_spec.set_parameter(\"normalization.mode\", \"meandiv\")\n",
    "gsea_job_spec.set_parameter(\"randomization.mode\", \"no_balance\")\n",
    "gsea_job_spec.set_parameter(\"omit.features.with.no.symbol.match\", \"true\")\n",
    "gsea_job_spec.set_parameter(\"median.for.class.metrics\", \"false\")\n",
    "gsea_job_spec.set_parameter(\"number.of.markers\", \"100\")\n",
    "gsea_job_spec.set_parameter(\"random.seed\", \"timestamp\")\n",
    "gsea_job_spec.set_parameter(\"save.random.ranked.lists\", \"false\")\n",
    "gsea_job_spec.set_parameter(\"selected.gene.sets\", \"\")\n",
    "gsea_job_spec.set_parameter(\"dev.mode\", \"false\")\n",
    "gsea_job_spec.set_parameter(\"alt.delim\", \"\")\n",
    "gsea_job_spec.set_parameter(\"plot.graphs.for.the.top.sets.of.each.phenotype\", \"20\")\n",
    "gsea_job_spec.set_parameter(\"make.detailed.gene.set.report\", \"true\")\n",
    "gsea_job_spec.set_parameter(\"create.svgs\", \"false\")\n",
    "gsea_job_spec.set_parameter(\"create.gcts\", \"false\")\n",
    "gsea_job_spec.set_parameter(\"create.zip\", \"true\")\n",
    "gsea_job_spec.set_parameter(\"job.memory\", \"8 Gb\")\n",
    "gsea_job_spec.set_parameter(\"job.queue\", \"gp-new-beta\")\n",
    "gsea_job_spec.set_parameter(\"job.cpuCount\", \"1\")\n",
    "gsea_job_spec.set_parameter(\"job.walltime\", \"02:00:00\")\n",
    "genepattern.display(gsea_task)\n"
   ]
  }
 ],
 "metadata": {
  "kernelspec": {
   "display_name": "Python 3",
   "language": "python",
   "name": "python3"
  },
  "language_info": {
   "codemirror_mode": {
    "name": "ipython",
    "version": 3
   },
   "file_extension": ".py",
   "mimetype": "text/x-python",
   "name": "python",
   "nbconvert_exporter": "python",
   "pygments_lexer": "ipython3",
   "version": "3.9.2"
  },
  "toc": {
   "base_numbering": 1,
   "nav_menu": {},
   "number_sections": false,
   "sideBar": false,
   "skip_h1_title": false,
   "title_cell": "Table of Contents",
   "title_sidebar": "Contents",
   "toc_cell": false,
   "toc_position": {
    "height": "391px",
    "left": "10px",
    "top": "150px",
    "width": "381px"
   },
   "toc_section_display": true,
   "toc_window_display": true
  }
 },
 "nbformat": 4,
 "nbformat_minor": 5
}
